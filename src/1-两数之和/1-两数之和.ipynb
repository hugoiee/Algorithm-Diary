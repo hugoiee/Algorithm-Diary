{
 "cells": [
  {
   "metadata": {},
   "cell_type": "markdown",
   "source": [
    "# 题目：1.两数之和\n",
    "给定一个整数数组 nums 和一个整数目标值 target，请你在该数组中找出 和为目标值 target  的那 两个 整数，并返回它们的数组下标。\n",
    "你可以假设每种输入只会对应一个答案，并且你不能使用两次相同的元素。\n",
    "你可以按任意顺序返回答案。\n",
    "\n",
    "示例 1：\n",
    "> 输入：nums = [2,7,11,15], target = 9\n",
    ">\n",
    "> 输出：[0,1]\n",
    ">\n",
    "> 解释：因为 nums[0] + nums[1] == 9 ，返回 [0, 1] 。\n",
    "\n",
    "示例 2：\n",
    "> 输入：nums = [3,2,4], target = 6\n",
    ">\n",
    "> 输出：[1,2]\n",
    "\n",
    "示例 3：\n",
    "> 输入：nums = [3,3], target = 6\n",
    ">\n",
    "> 输出：[0,1]\n",
    "\n",
    "提示：\n",
    "- 2 <= nums.length <= 104\n",
    "- 109 <= nums[i] <= 109\n",
    "- 109 <= target <= 109\n",
    "只会存在一个有效答案"
   ],
   "id": "d93f61913079bba1"
  },
  {
   "metadata": {
    "ExecuteTime": {
     "end_time": "2025-10-22T15:34:34.428245Z",
     "start_time": "2025-10-22T15:34:34.425226Z"
    }
   },
   "cell_type": "code",
   "source": [
    "# 暴力枚举法\n",
    "from typing import List\n",
    "\n",
    "class Solution:\n",
    "    def twoSum(self, nums: List[int], target: int) -> List[int]:\n",
    "        n = len(nums)\n",
    "        for i in range(n):\n",
    "            for j in range(i + 1, n):\n",
    "                if nums[i] + nums[j] == target:\n",
    "                    return [i, j]\n",
    "        return []\n",
    "\n",
    "# --- 测试代码 ---\n",
    "solution = Solution()\n",
    "\n",
    "# 示例 1\n",
    "nums1 = [2, 7, 11, 15]\n",
    "target1 = 9\n",
    "print(f\"示例 1 输出: {solution.twoSum(nums1, target1)}\")\n",
    "\n",
    "# 示例 2\n",
    "nums2 = [3, 2, 4]\n",
    "target2 = 6\n",
    "print(f\"示例 2 输出: {solution.twoSum(nums2, target2)}\")\n",
    "\n",
    "# 示例 3\n",
    "nums3 = [3, 3]\n",
    "target3 = 6\n",
    "print(f\"示例 3 输出: {solution.twoSum(nums3, target3)}\")\n"
   ],
   "id": "fea0102ee95bc901",
   "outputs": [
    {
     "name": "stdout",
     "output_type": "stream",
     "text": [
      "示例 1 输出: [0, 1]\n",
      "示例 2 输出: [1, 2]\n",
      "示例 3 输出: [0, 1]\n"
     ]
    }
   ],
   "execution_count": 1
  }
 ],
 "metadata": {
  "kernelspec": {
   "display_name": "Python 3",
   "language": "python",
   "name": "python3"
  },
  "language_info": {
   "codemirror_mode": {
    "name": "ipython",
    "version": 2
   },
   "file_extension": ".py",
   "mimetype": "text/x-python",
   "name": "python",
   "nbconvert_exporter": "python",
   "pygments_lexer": "ipython2",
   "version": "2.7.6"
  }
 },
 "nbformat": 4,
 "nbformat_minor": 5
}
